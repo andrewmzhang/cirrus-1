{
 "cells": [
  {
   "cell_type": "code",
   "execution_count": 1,
   "metadata": {},
   "outputs": [],
   "source": [
    "from IPython.display import IFrame\n",
    "from IPython.core.display import display, HTML\n"
   ]
  },
  {
   "cell_type": "code",
   "execution_count": 2,
   "metadata": {},
   "outputs": [],
   "source": [
    "import app"
   ]
  },
  {
   "cell_type": "code",
   "execution_count": 3,
   "metadata": {},
   "outputs": [],
   "source": [
    "%%capture\n",
    "\n",
    "import time\n",
    "import random\n",
    "from context import cirrus\n",
    "from cirrus import LogisticRegression\n",
    "from cirrus import app\n",
    "from cirrus import CirrusBundle\n",
    "\n",
    "\n",
    "# Parameter server IP, Private IP, learning rates.\n",
    "learning_rates = [10, 0.1, 0.2, 0.7, 0.8, 0.3, 0.4, 0.5]\n",
    "\n",
    "def progress_callback(time_loss, cost, task):\n",
    "    pass\n",
    "\n",
    "basic_params = {\n",
    "    'n_workers': 4,\n",
    "    'n_ps': 2,\n",
    "    'worker_size': 128,\n",
    "    'dataset': 'cirrus-criteo-kaggle-19b-random',\n",
    "    'learning_rate': 0.01,\n",
    "    'epsilon': 0.0001,\n",
    "    'progress_callback': progress_callback,\n",
    "    'timeout': 0,\n",
    "    'threshold_loss': 0,\n",
    "    'resume_model': 'model_v1',\n",
    "    'key_name': 'mykey',\n",
    "    'key_path': '/home/camus/Downloads/mykey.pem',\n",
    "    'ps_ip_public': 'ec2-52-43-7-9.us-west-2.compute.amazonaws.com', \n",
    "    'ps_ip_private': '172.31.4.209',\n",
    "    'ps_username': 'ubuntu',\n",
    "    'opt_method': 'adagrad',\n",
    "    'checkpoint_model': 60,\n",
    "    'minibatch_size': 20,\n",
    "    'model_bits': 19,\n",
    "    'use_grad_threshold': False,\n",
    "    'grad_threshold': 0.001,\n",
    "    'train_set': (0,824),\n",
    "    'test_set': (835,837)\n",
    "}\n",
    "\n",
    "if __name__ == \"__main__\":\n",
    "    batch = []\n",
    "    index = 0\n",
    "    for lr in learning_rates:\n",
    "        config = basic_params.copy()\n",
    "        config['learning_rate'] = lr\n",
    "        batch.append(config)\n",
    "    cb = CirrusBundle()\n",
    "    cb.set_task_parameters(LogisticRegression, batch)\n",
    "    app.bundle = cb\n",
    "    cb.run()\n",
    "    app.run_server()"
   ]
  },
  {
   "cell_type": "code",
   "execution_count": 4,
   "metadata": {},
   "outputs": [
    {
     "data": {
      "text/html": [
       "\n",
       "        <iframe\n",
       "            width=\"1000\"\n",
       "            height=\"600\"\n",
       "            src=\"http://localhost:8050\"\n",
       "            frameborder=\"0\"\n",
       "            allowfullscreen\n",
       "        ></iframe>\n",
       "        "
      ],
      "text/plain": [
       "<IPython.lib.display.IFrame at 0x7f19884f0fd0>"
      ]
     },
     "execution_count": 4,
     "metadata": {},
     "output_type": "execute_result"
    }
   ],
   "source": [
    "app.display_dash()"
   ]
  },
  {
   "cell_type": "code",
   "execution_count": null,
   "metadata": {},
   "outputs": [],
   "source": []
  }
 ],
 "metadata": {
  "kernelspec": {
   "display_name": "Python 2",
   "language": "python",
   "name": "python2"
  },
  "language_info": {
   "codemirror_mode": {
    "name": "ipython",
    "version": 2
   },
   "file_extension": ".py",
   "mimetype": "text/x-python",
   "name": "python",
   "nbconvert_exporter": "python",
   "pygments_lexer": "ipython2",
   "version": "2.7.12"
  }
 },
 "nbformat": 4,
 "nbformat_minor": 2
}
