{
 "cells": [
  {
   "cell_type": "code",
   "execution_count": 1,
   "metadata": {},
   "outputs": [],
   "source": [
    "from context import cirrus"
   ]
  },
  {
   "cell_type": "code",
   "execution_count": 3,
   "metadata": {},
   "outputs": [],
   "source": [
    "url = \"ec2-34-212-6-172.us-west-2.compute.amazonaws.com\"\n",
    "ip = \"172.31.5.74\"\n",
    "data_bucket = 'cirrus-criteo-kaggle-19b-random'\n",
    "model = 'model_v1'\n",
    "\n",
    "basic_params = {\n",
    "    'n_workers': 5,\n",
    "    'n_ps': 1,\n",
    "    'worker_size': 128,\n",
    "    'dataset': data_bucket,\n",
    "    'learning_rate': 0.01,\n",
    "    'epsilon': 0.0001,\n",
    "    'progress_callback': None,\n",
    "    'timeout': 0,\n",
    "    'threshold_loss': 0,\n",
    "    'resume_model': model,\n",
    "    'key_name': 'mykey',\n",
    "    'key_path': '/home/camus/Downloads/mykey.pem',\n",
    "    'ps_ip_public': url,\n",
    "    'ps_ip_private': ip,\n",
    "    'ps_username': 'ubuntu',\n",
    "    'opt_method': 'adagrad',\n",
    "    'checkpoint_model': 60,\n",
    "    'minibatch_size': 20,\n",
    "    'model_bits': 19,\n",
    "    'use_grad_threshold': False,\n",
    "    'grad_threshold': 0.001,\n",
    "    'train_set': (0,824),\n",
    "    'test_set': (835,840)\n",
    "}\n",
    "\n",
    "\n",
    "if __name__ == \"__main__\":\n",
    "    batch = []\n",
    "    index = 0\n",
    "    base_port = 1337\n",
    "    start =    0.100000\n",
    "    end =      0.000001\n",
    "    interval = 0.001\n",
    "    for _ in range(10):\n",
    "        config = basic_params.copy()\n",
    "        config['ps_ip_port'] = base_port + (index * 2)\n",
    "        config['learning_rate'] = start\n",
    "        print(start)\n",
    "        batch.append(config)\n",
    "        start /= 1.25\n",
    "\n",
    "    gs = cirrus.GridSearch(task=cirrus.LogisticRegression,\n",
    "                           param_base=basic_params,\n",
    "                           hyper_vars=[\"learning_rate\", \"worker_size\"],\n",
    "                           hyper_params=[[0.1, 0.2], [128, 246, 512]],\n",
    "                           machines=[url])\n",
    "    gs.set_threads(2)\n",
    "    gs.run(UI=True)\n"
   ]
  },
  {
   "cell_type": "code",
   "execution_count": 4,
   "metadata": {},
   "outputs": [
    {
     "data": {
      "text/html": [
       "\n",
       "        <iframe\n",
       "            width=\"1000\"\n",
       "            height=\"600\"\n",
       "            src=\"http://localhost:8050\"\n",
       "            frameborder=\"0\"\n",
       "            allowfullscreen\n",
       "        ></iframe>\n",
       "        "
      ],
      "text/plain": [
       "<IPython.lib.display.IFrame at 0x7f18417928d0>"
      ]
     },
     "execution_count": 4,
     "metadata": {},
     "output_type": "execute_result"
    },
    {
     "name": "stdout",
     "output_type": "stream",
     "text": [
      "Killing line\n",
      "Lambda launcher has received kill signal\n",
      "Lambda launcher has received kill signal\n",
      "Lambda launcher has received kill signal\n",
      "Lambda launcher has received kill signal\n",
      "Lambda launcher has received kill signal\n",
      "Lambda launcher has received kill signal\n",
      "Lambda launcher has received kill signal\n",
      "Lambda launcher has received kill signal\n",
      "Lambda launcher has received kill signal\n",
      "Lambda launcher has received kill signal\n"
     ]
    }
   ],
   "source": [
    "app.display_dash()"
   ]
  },
  {
   "cell_type": "code",
   "execution_count": null,
   "metadata": {},
   "outputs": [],
   "source": []
  }
 ],
 "metadata": {
  "kernelspec": {
   "display_name": "Python 2",
   "language": "python",
   "name": "python2"
  },
  "language_info": {
   "codemirror_mode": {
    "name": "ipython",
    "version": 2
   },
   "file_extension": ".py",
   "mimetype": "text/x-python",
   "name": "python",
   "nbconvert_exporter": "python",
   "pygments_lexer": "ipython2",
   "version": "2.7.12"
  }
 },
 "nbformat": 4,
 "nbformat_minor": 2
}
