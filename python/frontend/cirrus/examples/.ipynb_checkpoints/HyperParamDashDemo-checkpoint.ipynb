{
 "cells": [
  {
   "cell_type": "code",
   "execution_count": 1,
   "metadata": {},
   "outputs": [],
   "source": [
    "from IPython.display import IFrame\n",
    "from IPython.core.display import display, HTML\n"
   ]
  },
  {
   "cell_type": "code",
   "execution_count": 2,
   "metadata": {},
   "outputs": [],
   "source": [
    "import app"
   ]
  },
  {
   "cell_type": "code",
   "execution_count": null,
   "metadata": {},
   "outputs": [],
   "source": []
  },
  {
   "cell_type": "code",
   "execution_count": 3,
   "metadata": {},
   "outputs": [
    {
     "data": {
      "text/html": [
       "\n",
       "        <iframe\n",
       "            width=\"1000\"\n",
       "            height=\"800\"\n",
       "            src=\"http://localhost:8050\"\n",
       "            frameborder=\"0\"\n",
       "            allowfullscreen\n",
       "        ></iframe>\n",
       "        "
      ],
      "text/plain": [
       "<IPython.lib.display.IFrame at 0x7f321be8d550>"
      ]
     },
     "execution_count": 3,
     "metadata": {},
     "output_type": "execute_result"
    }
   ],
   "source": []
  },
  {
   "cell_type": "code",
   "execution_count": 4,
   "metadata": {},
   "outputs": [
    {
     "name": "stdout",
     "output_type": "stream",
     "text": [
      "Cost Model\n"
     ]
    }
   ],
   "source": [
    "%%capture\n",
    "\n",
    "import time\n",
    "import random\n",
    "from context import cirrus\n",
    "from cirrus import LogisticRegression\n",
    "from cirrus import app\n",
    "from cirrus import CirrusBundle\n",
    "\n",
    "def progress_callback(time_loss, cost, task):\n",
    "    pass\n",
    "\n",
    "ps_servers = [\n",
    "    ('ec2-34-210-71-81.us-west-2.compute.amazonaws.com', '172.31.36.46', 0.0001),\n",
    "    ('ec2-34-220-36-27.us-west-2.compute.amazonaws.com', '172.31.40.139', 0.1)\n",
    "]\n",
    "\n",
    "data_bucket = 'cirrus-criteo-kaggle-19b-random'\n",
    "model = 'model_v1'\n",
    "\n",
    "basic_params = {\n",
    "    'n_workers': 4,\n",
    "    'n_ps': 2,\n",
    "    'worker_size': 128,\n",
    "    'dataset': data_bucket,\n",
    "    'learning_rate': 0.01,\n",
    "    'epsilon': 0.0001,\n",
    "    'progress_callback': progress_callback,\n",
    "    'timeout': 0,\n",
    "    'threshold_loss': 0,\n",
    "    'resume_model': model,\n",
    "    'key_name': 'mykey',\n",
    "    'key_path': '/home/camus/Downloads/mykey.pem',\n",
    "    'ps_ip_public': 'ec2-54-71-177-228.us-west-2.compute.amazonaws.com',\n",
    "    'ps_ip_private': '172.31.9.205',\n",
    "    'ps_username': 'ubuntu',\n",
    "    'opt_method': 'adagrad',\n",
    "    'checkpoint_model': 60,\n",
    "    'minibatch_size': 20,\n",
    "    'model_bits': 19,\n",
    "    'use_grad_threshold': False,\n",
    "    'grad_threshold': 0.001,\n",
    "    'train_set': (0,824),\n",
    "    'test_set': (835,840)\n",
    "}\n",
    "\n",
    "if __name__ == \"__main__\":\n",
    "    batch = []\n",
    "    index = 0\n",
    "    for ps in ps_servers:\n",
    "        config = basic_params.copy()\n",
    "        config['ps_ip_public'] = ps[0]\n",
    "        config['ps_ip_private'] = ps[1]\n",
    "        config['learning_rate'] = ps[2]\n",
    "        batch.append(config)\n",
    "    cb = CirrusBundle()\n",
    "    cb.set_task_parameters(LogisticRegression, batch)\n",
    "    app.bundle = cb\n",
    "    cb.run()\n",
    "    \n",
    "    app.run_server()\n",
    "    "
   ]
  },
  {
   "cell_type": "code",
   "execution_count": 5,
   "metadata": {},
   "outputs": [
    {
     "data": {
      "text/html": [
       "\n",
       "        <iframe\n",
       "            width=\"1000\"\n",
       "            height=\"800\"\n",
       "            src=\"http://localhost:8050\"\n",
       "            frameborder=\"0\"\n",
       "            allowfullscreen\n",
       "        ></iframe>\n",
       "        "
      ],
      "text/plain": [
       "<IPython.lib.display.IFrame at 0x7f3209f16a90>"
      ]
     },
     "execution_count": 5,
     "metadata": {},
     "output_type": "execute_result"
    },
    {
     "name": "stdout",
     "output_type": "stream",
     "text": [
      "Lambda launcher has received kill signal\n",
      "Everyone is dead\n",
      "Everyone is dead\n",
      "Lambda launcher has received kill signal\n",
      "Everyone is dead\n",
      "Everyone is dead\n",
      "Everyone is dead\n",
      "Everyone is dead\n",
      "Everyone is dead\n",
      "Everyone is dead\n",
      "Everyone is dead\n",
      "Everyone is dead\n",
      "Everyone is dead\n",
      "Everyone is dead\n",
      "Everyone is dead\n",
      "Everyone is dead\n",
      "Everyone is dead\n",
      "Everyone is dead\n",
      "Everyone is dead\n",
      "Everyone is dead\n"
     ]
    }
   ],
   "source": [
    "app.display_dash()"
   ]
  },
  {
   "cell_type": "code",
   "execution_count": null,
   "metadata": {},
   "outputs": [],
   "source": []
  }
 ],
 "metadata": {
  "kernelspec": {
   "display_name": "Python 2",
   "language": "python",
   "name": "python2"
  },
  "language_info": {
   "codemirror_mode": {
    "name": "ipython",
    "version": 2
   },
   "file_extension": ".py",
   "mimetype": "text/x-python",
   "name": "python",
   "nbconvert_exporter": "python",
   "pygments_lexer": "ipython2",
   "version": "2.7.12"
  }
 },
 "nbformat": 4,
 "nbformat_minor": 2
}
