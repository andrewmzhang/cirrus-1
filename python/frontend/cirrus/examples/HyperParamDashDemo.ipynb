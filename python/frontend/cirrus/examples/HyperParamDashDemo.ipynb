{
 "cells": [
  {
   "cell_type": "code",
   "execution_count": 1,
   "metadata": {},
   "outputs": [],
   "source": [
    "from context import cirrus"
   ]
  },
  {
   "cell_type": "code",
   "execution_count": 2,
   "metadata": {},
   "outputs": [],
   "source": [
    "urls = [\n",
    "        \"ec2-18-237-213-139.us-west-2.compute.amazonaws.com\"]\n",
    "#        \"ec2-34-211-54-228.us-west-2.compute.amazonaws.com\"]\n",
    "ips = [\n",
    "       \"172.31.14.190\"]\n",
    "#       \"172.31.9.94\"]\n",
    "data_bucket = 'cirrus-criteo-kaggle-19b-random'\n",
    "model = 'model_v1'\n",
    "\n",
    "basic_params = {\n",
    "    'n_workers': 10,\n",
    "    'n_ps': 1,\n",
    "    'worker_size': 128,\n",
    "    'dataset': data_bucket,\n",
    "    'learning_rate': 0.01,\n",
    "    'epsilon': 0.0001,\n",
    "    'progress_callback': None,\n",
    "    'timeout': 0,\n",
    "    'threshold_loss': 0,\n",
    "    'resume_model': model,\n",
    "    'key_name': 'mykey',\n",
    "    'key_path': '/home/camus/Downloads/mykey.pem',\n",
    "    'ps_username': 'ubuntu',\n",
    "    'opt_method': 'adagrad',\n",
    "    'checkpoint_model': 60,\n",
    "    'minibatch_size': 20,\n",
    "    'model_bits': 19,\n",
    "    'use_grad_threshold': False,\n",
    "    'grad_threshold': 0.001,\n",
    "    'train_set': (0,824),\n",
    "    'test_set': (835,836)\n",
    "}\n",
    "\n",
    "\n",
    "batch = []\n",
    "index = 0\n",
    "base_port = 1337\n",
    "start =    0.100000\n",
    "end =      0.000001\n",
    "interval = 0.001\n",
    "\n",
    "\n",
    "machines = zip(urls, ips)\n",
    "\n",
    "learning_rates = [0.5/i for i in range(1, 20, 2)]\n",
    "\n",
    "gs = cirrus.GridSearch(task=cirrus.LogisticRegression,\n",
    "                       param_base=basic_params,\n",
    "                       hyper_vars=[\"learning_rate\", \"n_workers\"],\n",
    "                       hyper_params=[learning_rates, [20, 30]],\n",
    "                       machines=machines)\n",
    "gs.set_threads(10)\n",
    "gs.run(UI=True)\n",
    "\n",
    "\n"
   ]
  },
  {
   "cell_type": "code",
   "execution_count": 3,
   "metadata": {},
   "outputs": [
    {
     "data": {
      "text/html": [
       "\n",
       "        <iframe\n",
       "            width=\"1000\"\n",
       "            height=\"600\"\n",
       "            src=\"http://localhost:8050\"\n",
       "            frameborder=\"0\"\n",
       "            allowfullscreen\n",
       "        ></iframe>\n",
       "        "
      ],
      "text/plain": [
       "<IPython.lib.display.IFrame at 0x7fe3e21cc150>"
      ]
     },
     "execution_count": 3,
     "metadata": {},
     "output_type": "execute_result"
    }
   ],
   "source": [
    "cirrus.graph.display_dash()"
   ]
  },
  {
   "cell_type": "code",
   "execution_count": null,
   "metadata": {},
   "outputs": [],
   "source": []
  }
 ],
 "metadata": {
  "kernelspec": {
   "display_name": "Python 2",
   "language": "python",
   "name": "python2"
  },
  "language_info": {
   "codemirror_mode": {
    "name": "ipython",
    "version": 2
   },
   "file_extension": ".py",
   "mimetype": "text/x-python",
   "name": "python",
   "nbconvert_exporter": "python",
   "pygments_lexer": "ipython2",
   "version": "2.7.12"
  }
 },
 "nbformat": 4,
 "nbformat_minor": 2
}
