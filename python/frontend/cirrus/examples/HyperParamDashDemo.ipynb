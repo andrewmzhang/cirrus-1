{
 "cells": [
  {
   "cell_type": "code",
   "execution_count": null,
   "metadata": {},
   "outputs": [],
   "source": [
    "import cirrus"
   ]
  },
  {
   "cell_type": "code",
   "execution_count": null,
   "metadata": {},
   "outputs": [],
   "source": [
    "basic_params = {\n",
    "    'n_workers': 5,\n",
    "    'n_ps': 1,\n",
    "    'dataset': 'criteo-kaggle',\n",
    "    'epsilon': 0.0001,\n",
    "    'key_name': 'mykey',\n",
    "    'key_path': '~/key.pem',\n",
    "    'minibatch_size': 20,\n",
    "    'model_bits': 19,\n",
    "    'train_set': (0,824),\n",
    "    'test_set': (835,840)\n",
    "}\n",
    "\n",
    "\n",
    "gs = cirrus.GridSearch(task=cirrus.LogisticRegression,\n",
    "                       param_base=basic_params,\n",
    "                       hyper_vars=[\"learning_rate\", \"minibatch_size\"],\n",
    "                       hyper_params=[[0.1, 0.01, 0.001], [20, 200, 2000]]\n",
    "                      )\n",
    "gs.run(UI=True)\n"
   ]
  },
  {
   "cell_type": "code",
   "execution_count": null,
   "metadata": {},
   "outputs": [],
   "source": [
    "app.display_dash()"
   ]
  },
  {
   "cell_type": "code",
   "execution_count": null,
   "metadata": {},
   "outputs": [],
   "source": []
  }
 ],
 "metadata": {
  "kernelspec": {
   "display_name": "Python 2",
   "language": "python",
   "name": "python2"
  },
  "language_info": {
   "codemirror_mode": {
    "name": "ipython",
    "version": 2
   },
   "file_extension": ".py",
   "mimetype": "text/x-python",
   "name": "python",
   "nbconvert_exporter": "python",
   "pygments_lexer": "ipython2",
   "version": "2.7.15rc1"
  }
 },
 "nbformat": 4,
 "nbformat_minor": 2
}
